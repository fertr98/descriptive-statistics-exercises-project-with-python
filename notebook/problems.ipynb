{
    "cells": [
        {
            "cell_type": "markdown",
            "id": "ac622319",
            "metadata": {},
            "source": [
                "# Descriptive statistics problems"
            ]
        },
        {
            "cell_type": "markdown",
            "id": "aa8993e4",
            "metadata": {},
            "source": [
                "### Exercise 1"
            ]
        },
        {
            "cell_type": "markdown",
            "id": "5e0ab0d5",
            "metadata": {},
            "source": [
                "We will use Numpy to obtain information to describe statistically.\n",
                "\n",
                "- Generate an array of 100 elements following a normal distribution.\n",
                "- Generate an array of 100 elements following a chi-square distribution with 3 degrees of freedom.\n",
                "- Calculate the main metrics and statistical measures that best describe the two vectors."
            ]
        },
        {
            "cell_type": "markdown",
            "id": "56c1e64e",
            "metadata": {},
            "source": [
                "Array with normal distribution"
            ]
        },
        {
            "cell_type": "code",
            "execution_count": 59,
            "id": "34720ab6",
            "metadata": {},
            "outputs": [
                {
                    "name": "stdout",
                    "output_type": "stream",
                    "text": [
                        "[ 9.12047166e-02  1.09128273e+00 -1.94697031e+00 -1.38634953e+00\n",
                        " -2.29649157e+00  2.40983430e+00  1.72783617e+00  2.20455628e+00\n",
                        "  7.94827639e-01  9.76421096e-01 -1.18342715e+00  1.91636361e+00\n",
                        " -1.12332680e+00 -6.64035470e-01 -3.78358570e-01 -7.91615271e-01\n",
                        "  8.59548109e-01 -2.30788995e-01 -6.56610281e-02 -2.08636235e-01\n",
                        "  1.34686857e+00 -6.06952797e-01 -1.74248214e-01  4.24051421e-01\n",
                        " -1.64599010e+00 -4.83540950e-01  5.35468250e-01  1.16614049e+00\n",
                        "  1.61683109e-01 -6.72833927e-01  1.44252413e+00 -2.21480611e-01\n",
                        "  3.12643137e-02  1.81929588e-01 -6.29287299e-02 -5.41568460e-01\n",
                        "  4.74518418e-01 -1.16459117e+00 -5.00909391e-01 -4.08560959e-01\n",
                        " -9.34348357e-01  8.45101540e-02  1.43691018e-01  7.55494413e-02\n",
                        " -1.55645096e-01  5.50850056e-01  1.70202996e+00  1.00609370e+00\n",
                        " -3.13491977e+00  1.13953350e+00 -1.86979936e+00 -1.77911304e+00\n",
                        "  1.27762897e-01 -1.35101776e+00  1.55396720e+00  6.96965751e-01\n",
                        " -8.11461153e-01 -1.64325093e+00  3.30658868e-01  1.22495627e+00\n",
                        "  9.61715686e-02  1.87681542e+00  5.33780584e-01  7.98360041e-01\n",
                        " -3.06074500e-01  3.77973887e-01 -2.26478047e-01 -1.88574454e+00\n",
                        "  2.47251097e+00 -1.46856587e-01  1.15649198e-01  1.33043062e+00\n",
                        "  1.09594712e-01  2.15479072e-01  4.29070088e-01 -1.15126562e+00\n",
                        "  1.52475348e+00  3.60535849e-01 -6.10893022e-01  9.30246033e-01\n",
                        "  3.56513015e-01 -9.52160595e-01  1.51927786e-01  6.34885971e-04\n",
                        "  3.35023228e-01  3.74799388e-01  7.13816158e-01 -1.20081348e+00\n",
                        "  1.38116116e-03 -9.21460027e-01  4.96227866e-01 -1.33166667e+00\n",
                        " -2.19057049e+00 -4.36072065e-01  2.54508722e+00  1.15008128e+00\n",
                        "  8.44454668e-02  2.48624780e+00 -1.94355403e-01 -1.86213348e-01]\n",
                        "Mean of the array with normal distribution is: 0.062\n",
                        "Median of the array with normal distribution is: 0.088\n",
                        "Mode of the array with normal distribution is: 0.091\n",
                        "Range of the array with normal distribution is: 5.68\n",
                        " Variance of the array with normal distribution is: 1.279\n",
                        "Standard deviation of the array with normal distribution is: 1.1310588004604873\n",
                        " Skewness of the array with normal distribution is: -0.057\n",
                        "Kurtosis of the array with normal distribution is: 0.043\n"
                    ]
                }
            ],
            "source": [
                "# TODO\n",
                "\n",
                "import numpy as np\n",
                "import statistics as stats\n",
                "\n",
                "\n",
                "np.random.seed(8)\n",
                "array_normal = np.random.normal(loc = 0, scale = 1, size = 100)\n",
                "print(array_normal) \n",
                "\n",
                "#mean\n",
                "\n",
                "mean = stats.mean(array_normal).round(3)\n",
                "print(f\"Mean of the array with normal distribution is: {mean}\")\n",
                "\n",
                "#median\n",
                "\n",
                "median = stats.median(array_normal).round(3)\n",
                "print(f\"Median of the array with normal distribution is: {median}\")\n",
                "\n",
                "#mode\n",
                "\n",
                "mode = stats.mode(array_normal).round(3)\n",
                "print(f\"Mode of the array with normal distribution is: {mode}\")\n",
                "\n",
                "#range\n",
                "\n",
                "range = (max(array_normal) - min(array_normal)).round(3)\n",
                "print(f\"Range of the array with normal distribution is: {range}\")\n",
                "\n",
                "#variance\n",
                "\n",
                "variance = stats.variance(array_normal).round(3)\n",
                "print(f\" Variance of the array with normal distribution is: {variance}\")\n",
                "\n",
                "#standard deviation\n",
                "\n",
                "std = stats.stdev(array_normal)\n",
                "print(f\"Standard deviation of the array with normal distribution is: {std}\")\n",
                "\n",
                "#skewness\n",
                "\n",
                "from scipy.stats import skew\n",
                "\n",
                "skew = skew(array_normal).round(3)\n",
                "print(f\" Skewness of the array with normal distribution is: {skew}\")\n",
                "\n",
                "#kurtosis\n",
                "\n",
                "from scipy.stats import kurtosis\n",
                "\n",
                "kurt = kurtosis(array_normal).round(3)\n",
                "print(f\"Kurtosis of the array with normal distribution is: {kurt}\")"
            ]
        },
        {
            "cell_type": "markdown",
            "id": "a5ed6e9c",
            "metadata": {},
            "source": [
                "Array with Chi-square distribution"
            ]
        },
        {
            "cell_type": "code",
            "execution_count": 61,
            "id": "9d2e0bd1",
            "metadata": {},
            "outputs": [
                {
                    "name": "stdout",
                    "output_type": "stream",
                    "text": [
                        "[ 2.5359556   5.57383153  0.14838549  0.43705557  8.40991793 11.07054327\n",
                        "  0.59684249  0.65070211  1.1727347   1.60770768  1.00699864  4.72626963\n",
                        "  1.86943814  2.19434413  1.91102412  1.97679297  3.3744982   3.69175696\n",
                        "  5.86782785  1.8868379   2.20001467  1.34804954  1.40989959  1.5573452\n",
                        "  2.65770961  2.5003735   8.27954727  5.25140112  0.17656208  0.21397988\n",
                        "  7.55750876  4.1860104   3.12300764  6.10593996  3.68680892  4.5178044\n",
                        "  1.87748305  0.17047114  2.59218672  6.54892127  3.38838199  0.62527847\n",
                        "  1.24681244  4.97500557  2.67716339  2.33470511  3.13447206  3.24025295\n",
                        "  2.33631825  0.85515472  3.57784929  0.47687919  5.80390675  2.52055171\n",
                        " 12.8791592   4.70663549  3.06232665  2.19480476  5.42587615  6.59607242\n",
                        " 13.18591352  7.93403425  1.88447909  1.33029201  1.09444743  5.81952701\n",
                        "  1.92433122  3.58767445  0.5736551   3.37502339  1.59017298  0.32740936\n",
                        "  0.34522501  5.75167105  1.71078642  2.69186514  6.96861774  4.96429418\n",
                        "  1.39504627  1.98198313  2.49684776  2.55550976  2.23456796  1.29667277\n",
                        "  1.04085959  2.20454469  0.03589358  1.68886838  3.51052282  0.89593662\n",
                        "  0.83043112  3.92008136  4.06189467  3.86325251  0.84196544  3.24195762\n",
                        "  4.93768396  1.10563801  3.23946433  2.28566487]\n",
                        "Mean of the array with chi-square distribution is: 3.135\n",
                        "Median of the array with chi-square distribution is: 2.499\n",
                        "Mode of the array with chi-square distribution is: 2.536\n",
                        "Range of the array with chi-square distribution is: 13.15\n",
                        "Variance of the array with chi-square distribution is: 6.691\n",
                        "Standard of the array with chi-square distribution is: 2.5866469124881344\n",
                        "Skewness of the array with chi-square distribution is: 1.634\n",
                        "Kurtosis of the array with chi-square distribution is: 3.288\n"
                    ]
                }
            ],
            "source": [
                "# TODO\n",
                "\n",
                "import numpy as np\n",
                "import statistics as stats\n",
                "\n",
                "\n",
                "np.random.seed(8)\n",
                "array_chi = np.random.chisquare(3, 100)\n",
                "print(array_chi) \n",
                "\n",
                "#mean\n",
                "\n",
                "mean = stats.mean(array_chi).round(3)\n",
                "print(f\"Mean of the array with chi-square distribution is: {mean}\")\n",
                "\n",
                "#median\n",
                "\n",
                "median = stats.median(array_chi).round(3)\n",
                "print(f\"Median of the array with chi-square distribution is: {median}\")\n",
                "\n",
                "#mode\n",
                "\n",
                "mode = stats.mode(array_chi).round(3)\n",
                "print(f\"Mode of the array with chi-square distribution is: {mode}\")\n",
                "\n",
                "#range\n",
                "\n",
                "range = (max(array_chi) - min(array_chi)).round(3)\n",
                "print(f\"Range of the array with chi-square distribution is: {range}\")\n",
                "\n",
                "#variance\n",
                "\n",
                "variance = stats.variance(array_chi).round(3)\n",
                "print(f\"Variance of the array with chi-square distribution is: {variance}\")\n",
                "\n",
                "#standard deviation\n",
                "\n",
                "std = stats.stdev(array_chi)\n",
                "print(f\"Standard of the array with chi-square distribution is: {std}\")\n",
                "\n",
                "#skewness\n",
                "\n",
                "from scipy.stats import skew\n",
                "\n",
                "skew = skew(array_chi).round(3)\n",
                "print(f\"Skewness of the array with chi-square distribution is: {skew}\")\n",
                "\n",
                "#kurtosis\n",
                "\n",
                "from scipy.stats import kurtosis\n",
                "\n",
                "kurt = kurtosis(array_chi).round(3)\n",
                "print(f\"Kurtosis of the array with chi-square distribution is: {kurt}\")"
            ]
        },
        {
            "cell_type": "markdown",
            "id": "46c70c3d",
            "metadata": {},
            "source": [
                "### Exercise 2\n",
                "\n",
                "Write a Python program to calculate the standard deviation of the following data:\n",
                "\n",
                "```py\n",
                "data = [4, 2, 5, 8, 6]\n",
                "```"
            ]
        },
        {
            "cell_type": "code",
            "execution_count": 9,
            "id": "d590308e",
            "metadata": {},
            "outputs": [
                {
                    "name": "stdout",
                    "output_type": "stream",
                    "text": [
                        "2.0\n",
                        "2.23606797749979\n",
                        "2.0\n"
                    ]
                }
            ],
            "source": [
                "# TODO\n",
                "import numpy as np\n",
                "\n",
                "data = [4, 2, 5, 8, 6]\n",
                "std = np.std(data)\n",
                "print(std)\n",
                "\n",
                "import statistics as stats\n",
                "\n",
                "data = [4, 2, 5, 8, 6]\n",
                "std1 = stats.stdev(data)\n",
                "print(std1)\n",
                "\n",
                "import math\n",
                "\n",
                "\n",
                "def standardev(data):\n",
                "\n",
                "    mean = sum(data) / len(data)  \n",
                "    var  = sum(pow(x-mean,2) for x in data) / len(data)  \n",
                "    std2  = math.sqrt(var) \n",
                "    return std\n",
                "\n",
                "print(standardev(data))\n"
            ]
        }
    ],
    "metadata": {
        "interpreter": {
            "hash": "9248718ffe6ce6938b217e69dbcc175ea21f4c6b28a317e96c05334edae734bb"
        },
        "kernelspec": {
            "display_name": "Python 3.9.12 ('ML-BOOTCAMP')",
            "language": "python",
            "name": "python3"
        },
        "language_info": {
            "codemirror_mode": {
                "name": "ipython",
                "version": 3
            },
            "file_extension": ".py",
            "mimetype": "text/x-python",
            "name": "python",
            "nbconvert_exporter": "python",
            "pygments_lexer": "ipython3",
            "version": "3.11.4"
        }
    },
    "nbformat": 4,
    "nbformat_minor": 5
}
